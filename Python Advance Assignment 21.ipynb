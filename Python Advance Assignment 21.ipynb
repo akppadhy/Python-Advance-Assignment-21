{
 "cells": [
  {
   "cell_type": "code",
   "execution_count": null,
   "id": "0d634050-988d-40fb-87d8-55ca829aa546",
   "metadata": {},
   "outputs": [],
   "source": [
    "#1. What is a probability distribution, exactly? If the values are meant to be random, how can you predict them at all ?\n",
    "\n",
    "Ans. A probability distribution describes how a random variable is distributed.\n",
    "It tells us which values a random variable is most likely to take on and which values are less likely. Based on the previous data and the \n",
    "occurences of the random event, we can predict the outcome in terms of probabilities."
   ]
  },
  {
   "cell_type": "code",
   "execution_count": null,
   "id": "bb3edde7-4190-47dc-a579-08dd70c193b9",
   "metadata": {},
   "outputs": [],
   "source": [
    "#2. Is there a distinction between true random numbers and pseudo-random numbers, if there is one? Why are the latter considered “good enough”?\n",
    "\n",
    "Ans. True Random Numbers are true physical values while pseudo-random numbers are generated internally by a program . \n",
    "Latter is considered good enough as they have sort of uniform distribution."
   ]
  },
  {
   "cell_type": "code",
   "execution_count": null,
   "id": "6e757ee7-6b6e-4134-adad-f1b6e3a1bdee",
   "metadata": {},
   "outputs": [],
   "source": [
    "#3. What are the two main factors that influence the behaviour of a \"normal\" probability distribution ?\n",
    "\n",
    "Ans. Normal Probability Distribution are influenced by two factors mean and the variance."
   ]
  },
  {
   "cell_type": "code",
   "execution_count": null,
   "id": "e18644f9-c732-4084-b214-a377df47a6af",
   "metadata": {},
   "outputs": [],
   "source": [
    "#4. Provide a real-life example of a normal distribution ?\n",
    "\n",
    "Ans. A Real-life example of a normal distribution are heights or blood pressure measurements."
   ]
  },
  {
   "cell_type": "code",
   "execution_count": null,
   "id": "27bae689-aff8-463c-be5f-dfadd1a85bf7",
   "metadata": {},
   "outputs": [],
   "source": [
    "#5. In the short term, how can you expect a probability distribution to behave? What do you think will happen as the number of trials grows ?\n",
    "\n",
    "Ans. Variance will decrease with number of trials."
   ]
  },
  {
   "cell_type": "code",
   "execution_count": null,
   "id": "ad632348-94bb-45f8-bbf5-baf2369ed3d0",
   "metadata": {},
   "outputs": [],
   "source": [
    "#6. What kind of object can be shuffled by using random.shuffle ?\n",
    "\n",
    "Ans. lists (list), strings (str) and tuples (tuple) objects can be shuffled by using random.shuffle."
   ]
  },
  {
   "cell_type": "code",
   "execution_count": null,
   "id": "56bec5e9-468e-4436-93af-789b5307e035",
   "metadata": {},
   "outputs": [],
   "source": [
    "#7. Describe the math package's general categories of functions ?\n",
    "\n",
    "Ans. The Math package's general categories of functions are:\n",
    "\n",
    "*Trigonometric functions\n",
    "*Quadratic functions\n",
    "*Exponential functions\n",
    "*Hyperbolic functions\n",
    "*Periodic functions\n",
    "*Arithmetic functions\n",
    "*Logarithimic functions\n",
    "*Conversions to Integer"
   ]
  },
  {
   "cell_type": "code",
   "execution_count": null,
   "id": "eba8713f-5baa-443d-a361-9453dc9f34eb",
   "metadata": {},
   "outputs": [],
   "source": [
    "#8. What is the relationship between exponentiation and logarithms ?\n",
    "\n",
    "Ans. Exponentiation and logarithms are inverse of each other."
   ]
  },
  {
   "cell_type": "code",
   "execution_count": null,
   "id": "5b68da1e-3c7e-4e16-b5a0-e784e156b3cf",
   "metadata": {},
   "outputs": [],
   "source": [
    "#9. What are the three logarithmic functions that Python supports ?\n",
    "\n",
    "Ans. The Three Logarithmic Functions that Python supports are:\n",
    "\n",
    "*log2(x) - logarithmic value of x to base 2\n",
    "*log10(x) - logarithmic value of x to base 10\n",
    "*log1p(a) - This function is used to compute logarithm(1+a) ."
   ]
  }
 ],
 "metadata": {
  "kernelspec": {
   "display_name": "Python 3 (ipykernel)",
   "language": "python",
   "name": "python3"
  },
  "language_info": {
   "codemirror_mode": {
    "name": "ipython",
    "version": 3
   },
   "file_extension": ".py",
   "mimetype": "text/x-python",
   "name": "python",
   "nbconvert_exporter": "python",
   "pygments_lexer": "ipython3",
   "version": "3.10.6"
  }
 },
 "nbformat": 4,
 "nbformat_minor": 5
}
